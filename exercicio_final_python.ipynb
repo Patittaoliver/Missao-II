{
  "nbformat": 4,
  "nbformat_minor": 0,
  "metadata": {
    "colab": {
      "provenance": [],
      "authorship_tag": "ABX9TyP8EEo/Rrg0hYoU1eF5eSfS",
      "include_colab_link": true
    },
    "kernelspec": {
      "name": "python3",
      "display_name": "Python 3"
    },
    "language_info": {
      "name": "python"
    }
  },
  "cells": [
    {
      "cell_type": "markdown",
      "metadata": {
        "id": "view-in-github",
        "colab_type": "text"
      },
      "source": [
        "<a href=\"https://colab.research.google.com/github/Patittaoliver/Missao-II/blob/main/exercicio_final_python.ipynb\" target=\"_parent\"><img src=\"https://colab.research.google.com/assets/colab-badge.svg\" alt=\"Open In Colab\"/></a>"
      ]
    },
    {
      "cell_type": "markdown",
      "source": [
        "from _typeshed import Self\n",
        "import numpy as np\n",
        "\n",
        "\n",
        "biblioteca [\"Dom Casmurro\", \"1984\", \"O Pequeno Príncipe\"]\n",
        "paginas = np.array([200, 328, 96])\n",
        "publicacao = np.array ([1899, 1949, 1943])\n",
        "\n",
        "def main():\n",
        "    np.array([200, 328, 96])\n",
        "    livro1 = Livro(\"Dom Casmurro\", \"Machado de Assis\", True)\n",
        "    livro2 = Livro(\"1984\", \"George Orwell\", True)\n",
        "    livro3 = Livro(\"O Pequeno Príncipe\", \"Antoine de Saint-Exupéry\", True)\n",
        "    \n",
        "    \n",
        "def emprestar(biblioteca):\n",
        "    Livro = \"Dom Casmurro\"\n",
        "    Livro = \"1984\"\n",
        "    Livro = \"O Pequeno Principe\"\n",
        "\n",
        "class Livro:\n",
        "    def __init__(self, titulo, autor, disponivel):\n",
        "        self.titulo = titulo\n",
        "        self.autor = autor\n",
        "        self.disponivel = True\n",
        "        \n",
        "    def emprestar(self):\n",
        "        if self.disponivel:\n",
        "            self.disponivel = False\n",
        "            print(f\"O livro '{self.titulo}' foi emprestado.\")\n",
        "\n",
        "        else:\n",
        "            print(f\"O livro '{self.titulo}' não está disponível para empréstimo.\")\n",
        "\n"
      ],
      "metadata": {
        "id": "GeKU7ngvmARo"
      }
    },
    {
      "cell_type": "code",
      "source": [
        "\n",
        "import numpy as np\n",
        "\n",
        "biblioteca = [\"Dom Casmurro\", \"1984\", \"O Pequeno Príncipe\"]\n",
        "paginas = np.array([200, 328, 96])\n",
        "publicacao = np.array ([1899, 1949, 1943])\n",
        "media = [publicacao /3]\n",
        "\n",
        "def emprestar(biblioteca):\n",
        "    Livro = \"Dom Casmurro\"\n",
        "    Livro = \"1984\"\n",
        "    Livro = \"O Pequeno Principe\"\n",
        "\n",
        "class Livro:\n",
        "    def __init__(self, titulo, autor, disponivel):\n",
        "        self.titulo = titulo\n",
        "        self.autor = autor\n",
        "        self.disponivel = True\n",
        "\n",
        "    def emprestar(self):\n",
        "        if self.disponivel:\n",
        "            self.disponivel = False\n",
        "            print(f\"O livro '{self.titulo}' foi emprestado.\")\n",
        "\n",
        "        else:\n",
        "            print(f\"O livro '{self.titulo}' não está disponível para empréstimo.\")\n",
        "\n",
        "def main():\n",
        "\n",
        "    livro1 = Livro(\"Dom Casmurro\", \"Machado de Assis\", True)\n",
        "    livro2 = Livro(\"1984\", \"George Orwell\", True)\n",
        "    livro3 = Livro(\"O Pequeno Príncipe\", \"Antoine de Saint-Exupéry\", True)\n",
        "\n",
        "    for num_pages in paginas:\n",
        "        if num_pages >= 100:\n",
        "\n",
        "            print(f\"O livro tem mais de 100 páginas\")\n",
        "        else:\n",
        "\n",
        "            print(f\"O livro tem menos de 100 páginas\")\n",
        "\n",
        "    for ano_livro in publicacao:\n",
        "      media_publicacao = np.array(publicacao)\n",
        "        print(media_publicacao)\n",
        "\n",
        "\n",
        "def emprestar(biblioteca):\n",
        "    Livro = \"Dom Casmurro\"\n",
        "    Livro = \"1984\"\n",
        "    Livro = \"O Pequeno Principe\"\n",
        "\n",
        "class Livro:\n",
        "    def __init__(self, titulo, autor, disponivel):\n",
        "        self.titulo = titulo\n",
        "        self.autor = autor\n",
        "        self.disponivel = True\n",
        "\n",
        "    def emprestar(self):\n",
        "        if self.disponivel:\n",
        "            self.disponivel = False\n",
        "            print(f\"O livro '{self.titulo}' foi emprestado.\")\n",
        "\n",
        "        else:\n",
        "            print(f\"O livro '{self.titulo}' não está disponível para empréstimo.\")\n",
        "\n",
        "def main():\n",
        "    np.array([200, 328, 96])\n",
        "    livro1 = Livro(\"Dom Casmurro\", \"Machado de Assis\", True)\n",
        "    livro2 = Livro(\"1984\", \"George Orwell\", True)\n",
        "    livro3 = Livro(\"O Pequeno Príncipe\", \"Antoine de Saint-Exupéry\", True)"
      ],
      "metadata": {
        "colab": {
          "base_uri": "https://localhost:8080/",
          "height": 106
        },
        "id": "uINlZHTjq5Gj",
        "outputId": "0a2558f5-350b-454a-ea9f-c8a68eb74253"
      },
      "execution_count": 65,
      "outputs": [
        {
          "output_type": "error",
          "ename": "IndentationError",
          "evalue": "unexpected indent (<ipython-input-65-6f2895e3758b>, line 43)",
          "traceback": [
            "\u001b[0;36m  File \u001b[0;32m\"<ipython-input-65-6f2895e3758b>\"\u001b[0;36m, line \u001b[0;32m43\u001b[0m\n\u001b[0;31m    print(media_publicacao)\u001b[0m\n\u001b[0m    ^\u001b[0m\n\u001b[0;31mIndentationError\u001b[0m\u001b[0;31m:\u001b[0m unexpected indent\n"
          ]
        }
      ]
    }
  ]
}